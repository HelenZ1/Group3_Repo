{
 "cells": [
  {
   "cell_type": "code",
   "execution_count": 6,
   "id": "6333f97a",
   "metadata": {},
   "outputs": [],
   "source": [
    "import numpy as np\n",
    "import pandas as pd\n",
    "from sklearn.model_selection import train_test_split\n",
    "from sklearn.linear_model import ElasticNet\n",
    "from sklearn.metrics import explained_variance_score, mean_squared_error, r2_score\n",
    "import matplotlib.pyplot as plt\n",
    "import seaborn as sns\n"
   ]
  },
  {
   "cell_type": "code",
   "execution_count": 7,
   "id": "39f3cc6e",
   "metadata": {},
   "outputs": [],
   "source": [
    "# Read in the dataset as a Pandas dataframe\n",
    "df = pd.read_csv('Volumetric_features.csv')\n",
    "\n",
    "# Define the independent and dependent variables\n",
    "x = df.drop('Age', axis=1)\n",
    "y = df['Age']"
   ]
  },
  {
   "cell_type": "code",
   "execution_count": 8,
   "id": "94bd3913",
   "metadata": {},
   "outputs": [],
   "source": [
    "# Split the data into training and testing sets\n",
    "x_train, x_test, y_train, y_test = train_test_split(x, y, test_size=0.2, random_state=42)"
   ]
  },
  {
   "cell_type": "code",
   "execution_count": 9,
   "id": "5efcafed",
   "metadata": {},
   "outputs": [
    {
     "name": "stderr",
     "output_type": "stream",
     "text": [
      "/Users/zohaibashfaq/opt/anaconda3/lib/python3.8/site-packages/sklearn/linear_model/_coordinate_descent.py:530: ConvergenceWarning: Objective did not converge. You might want to increase the number of iterations. Duality gap: 98184.9778543115, tolerance: 135.29772142011836\n",
      "  model = cd_fast.enet_coordinate_descent(\n"
     ]
    },
    {
     "data": {
      "text/plain": [
       "ElasticNet(alpha=0.001)"
      ]
     },
     "execution_count": 9,
     "metadata": {},
     "output_type": "execute_result"
    }
   ],
   "source": [
    "# Create an Elastic Net regression model object and fit it to the training data\n",
    "elastic = ElasticNet(alpha=0.001, l1_ratio=0.5)  # specify the strength of Elastic Net regularization with alpha and l1_ratio parameters\n",
    "elastic.fit(x_train, y_train)\n"
   ]
  },
  {
   "cell_type": "code",
   "execution_count": 10,
   "id": "5ca85e23",
   "metadata": {},
   "outputs": [
    {
     "name": "stdout",
     "output_type": "stream",
     "text": [
      "Explained Variance: 0.85\n",
      "Mean Squared Error: 59.89\n",
      "R Squared: 0.85\n"
     ]
    }
   ],
   "source": [
    "# Generate predictions on the test data and calculate the accuracy of the model\n",
    "y_pred = elastic.predict(x_test)\n",
    "evs = explained_variance_score(y_test, y_pred)  # Explained Variance\n",
    "mse = mean_squared_error(y_test, y_pred)        # Mean Squared Error\n",
    "r2 = r2_score(y_test, y_pred)                   # R Squared\n",
    "print(\"Explained Variance: %.2f\" % evs)\n",
    "print(\"Mean Squared Error: %.2f\" % mse)\n",
    "print(\"R Squared: %.2f\" % r2)"
   ]
  },
  {
   "cell_type": "code",
   "execution_count": 11,
   "id": "f3c409a2",
   "metadata": {},
   "outputs": [
    {
     "data": {
      "text/plain": [
       "<AxesSubplot:xlabel='Age', ylabel='Y Predicted Data'>"
      ]
     },
     "execution_count": 11,
     "metadata": {},
     "output_type": "execute_result"
    },
    {
     "data": {
      "image/png": "[encoded data removed]",
      "text/plain": [
       "<Figure size 432x288 with 1 Axes>"
      ]
     },
     "metadata": {
      "needs_background": "light"
     },
     "output_type": "display_data"
    }
   ],
   "source": [
    "# Visualize the relationship between actual and predicted values using a scatter plot and a regression plot\n",
    "plt.scatter(y_test, y_pred)\n",
    "plt.xlabel('Actual')\n",
    "plt.ylabel('Y Predicted Data')\n",
    "sns.regplot(x=y_test, y=y_pred, ci=None)"
   ]
  },
  {
   "cell_type": "code",
   "execution_count": 12,
   "id": "b27a5f6c",
   "metadata": {},
   "outputs": [
    {
     "name": "stdout",
     "output_type": "stream",
     "text": [
      "      Actual Value  Predicted Value  Difference\n",
      "1612            80        86.172965   -6.172965\n",
      "2726            58        56.158207    1.841793\n",
      "2242            86        79.587575    6.412425\n",
      "4130            78        83.286775   -5.286775\n",
      "3973            68        64.811722    3.188278\n",
      "...            ...              ...         ...\n",
      "907             71        83.773321  -12.773321\n",
      "80              85        84.838160    0.161840\n",
      "257             76        86.083791  -10.083791\n",
      "295             82        78.246882    3.753118\n",
      "1593            74        71.123648    2.876352\n",
      "\n",
      "[846 rows x 3 columns]\n"
     ]
    }
   ],
   "source": [
    "# Create a Pandas dataframe to show the actual and predicted values, as well as the difference between them\n",
    "pred_df = pd.DataFrame({'Actual Value': y_test, 'Predicted Value': y_pred, 'Difference': y_test-y_pred})\n",
    "print(pred_df)"
   ]
  },
  {
   "cell_type": "code",
   "execution_count": null,
   "id": "bb637679",
   "metadata": {},
   "outputs": [],
   "source": []
  }
 ],
 "metadata": {
  "kernelspec": {
   "display_name": "Python 3",
   "language": "python",
   "name": "python3"
  },
  "language_info": {
   "codemirror_mode": {
    "name": "ipython",
    "version": 3
   },
   "file_extension": ".py",
   "mimetype": "text/x-python",
   "name": "python",
   "nbconvert_exporter": "python",
   "pygments_lexer": "ipython3",
   "version": "3.8.8"
  }
 },
 "nbformat": 4,
 "nbformat_minor": 5
}
