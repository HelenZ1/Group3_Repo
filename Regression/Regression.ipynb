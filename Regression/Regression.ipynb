{
  "cells": [
    {
      "cell_type": "code",
      "execution_count": null,
      "metadata": {
        "id": "G7gykbUAdAju"
      },
      "outputs": [],
      "source": [
        "bimport pandas as pd\n",
        "import numpy as np\n",
        "import matplotlib.pyplot as plt\n",
        "\n",
        "from sklearn import metrics\n",
        "from sklearn import ensemble\n",
        "from sklearn.model_selection import train_test_split\n",
        "from sklearn.metrics import explained_variance_score\n"
      ]
    },
    {
      "cell_type": "code",
      "execution_count": null,
      "metadata": {
        "colab": {
          "base_uri": "https://localhost:8080/",
          "height": 352
        },
        "id": "j8RB-IFchU_k",
        "outputId": "ebeecfa0-88b7-47a2-93a6-559d7d672380"
      },
      "outputs": [
        {
          "data": {
            "text/html": [
              "\n",
              "  <div id=\"df-622276e1-6580-4bb1-82f1-a33b30aaa467\">\n",
              "    <div class=\"colab-df-container\">\n",
              "      <div>\n",
              "<style scoped>\n",
              "    .dataframe tbody tr th:only-of-type {\n",
              "        vertical-align: middle;\n",
              "    }\n",
              "\n",
              "    .dataframe tbody tr th {\n",
              "        vertical-align: top;\n",
              "    }\n",
              "\n",
              "    .dataframe thead th {\n",
              "        text-align: right;\n",
              "    }\n",
              "</style>\n",
              "<table border=\"1\" class=\"dataframe\">\n",
              "  <thead>\n",
              "    <tr style=\"text-align: right;\">\n",
              "      <th></th>\n",
              "      <th>S.No</th>\n",
              "      <th>Left-Lateral-Ventricle</th>\n",
              "      <th>Left-Inf-Lat-Vent</th>\n",
              "      <th>Left-Cerebellum-White-Matter</th>\n",
              "      <th>Left-Cerebellum-Cortex</th>\n",
              "      <th>Left-Thalamus</th>\n",
              "      <th>Left-Caudate</th>\n",
              "      <th>Left-Putamen</th>\n",
              "      <th>Left-Pallidum</th>\n",
              "      <th>3rd-Ventricle</th>\n",
              "      <th>...</th>\n",
              "      <th>rh_supramarginal_thickness</th>\n",
              "      <th>rh_frontalpole_thickness</th>\n",
              "      <th>rh_temporalpole_thickness</th>\n",
              "      <th>rh_transversetemporal_thickness</th>\n",
              "      <th>rh_insula_thickness</th>\n",
              "      <th>rh_MeanThickness_thickness</th>\n",
              "      <th>BrainSegVolNotVent.2</th>\n",
              "      <th>eTIV.1</th>\n",
              "      <th>Age</th>\n",
              "      <th>dataset</th>\n",
              "    </tr>\n",
              "  </thead>\n",
              "  <tbody>\n",
              "    <tr>\n",
              "      <th>0</th>\n",
              "      <td>1</td>\n",
              "      <td>22916.9</td>\n",
              "      <td>982.7</td>\n",
              "      <td>15196.7</td>\n",
              "      <td>55796.4</td>\n",
              "      <td>6855.5</td>\n",
              "      <td>2956.4</td>\n",
              "      <td>4240.7</td>\n",
              "      <td>2223.9</td>\n",
              "      <td>2034.4</td>\n",
              "      <td>...</td>\n",
              "      <td>2.408</td>\n",
              "      <td>2.629</td>\n",
              "      <td>3.519</td>\n",
              "      <td>2.009</td>\n",
              "      <td>2.825</td>\n",
              "      <td>2.33635</td>\n",
              "      <td>1093846</td>\n",
              "      <td>1619602.965</td>\n",
              "      <td>85</td>\n",
              "      <td>1</td>\n",
              "    </tr>\n",
              "    <tr>\n",
              "      <th>1</th>\n",
              "      <td>2</td>\n",
              "      <td>22953.2</td>\n",
              "      <td>984.5</td>\n",
              "      <td>15289.7</td>\n",
              "      <td>55778.6</td>\n",
              "      <td>6835.1</td>\n",
              "      <td>3064.2</td>\n",
              "      <td>4498.6</td>\n",
              "      <td>2354.1</td>\n",
              "      <td>1927.1</td>\n",
              "      <td>...</td>\n",
              "      <td>2.417</td>\n",
              "      <td>2.640</td>\n",
              "      <td>3.488</td>\n",
              "      <td>2.111</td>\n",
              "      <td>2.720</td>\n",
              "      <td>2.34202</td>\n",
              "      <td>1099876</td>\n",
              "      <td>1624755.130</td>\n",
              "      <td>85</td>\n",
              "      <td>1</td>\n",
              "    </tr>\n",
              "    <tr>\n",
              "      <th>2</th>\n",
              "      <td>3</td>\n",
              "      <td>23320.4</td>\n",
              "      <td>1062.1</td>\n",
              "      <td>15382.1</td>\n",
              "      <td>55551.2</td>\n",
              "      <td>7566.0</td>\n",
              "      <td>3231.7</td>\n",
              "      <td>4456.2</td>\n",
              "      <td>1995.4</td>\n",
              "      <td>2064.7</td>\n",
              "      <td>...</td>\n",
              "      <td>2.374</td>\n",
              "      <td>2.601</td>\n",
              "      <td>3.342</td>\n",
              "      <td>2.146</td>\n",
              "      <td>2.684</td>\n",
              "      <td>2.31982</td>\n",
              "      <td>1097999</td>\n",
              "      <td>1622609.518</td>\n",
              "      <td>86</td>\n",
              "      <td>1</td>\n",
              "    </tr>\n",
              "    <tr>\n",
              "      <th>3</th>\n",
              "      <td>4</td>\n",
              "      <td>24360.0</td>\n",
              "      <td>1000.5</td>\n",
              "      <td>14805.4</td>\n",
              "      <td>54041.8</td>\n",
              "      <td>8004.6</td>\n",
              "      <td>3137.3</td>\n",
              "      <td>4262.2</td>\n",
              "      <td>1983.4</td>\n",
              "      <td>2017.7</td>\n",
              "      <td>...</td>\n",
              "      <td>2.366</td>\n",
              "      <td>2.639</td>\n",
              "      <td>3.361</td>\n",
              "      <td>2.056</td>\n",
              "      <td>2.700</td>\n",
              "      <td>2.29215</td>\n",
              "      <td>1070117</td>\n",
              "      <td>1583854.236</td>\n",
              "      <td>87</td>\n",
              "      <td>1</td>\n",
              "    </tr>\n",
              "    <tr>\n",
              "      <th>4</th>\n",
              "      <td>5</td>\n",
              "      <td>25769.4</td>\n",
              "      <td>1124.4</td>\n",
              "      <td>16331.1</td>\n",
              "      <td>54108.6</td>\n",
              "      <td>6677.4</td>\n",
              "      <td>2964.4</td>\n",
              "      <td>4204.6</td>\n",
              "      <td>2409.7</td>\n",
              "      <td>2251.8</td>\n",
              "      <td>...</td>\n",
              "      <td>2.381</td>\n",
              "      <td>2.555</td>\n",
              "      <td>3.450</td>\n",
              "      <td>2.052</td>\n",
              "      <td>2.574</td>\n",
              "      <td>2.30397</td>\n",
              "      <td>1075926</td>\n",
              "      <td>1617375.362</td>\n",
              "      <td>89</td>\n",
              "      <td>1</td>\n",
              "    </tr>\n",
              "  </tbody>\n",
              "</table>\n",
              "<p>5 rows × 141 columns</p>\n",
              "</div>\n",
              "      <button class=\"colab-df-convert\" onclick=\"convertToInteractive('df-622276e1-6580-4bb1-82f1-a33b30aaa467')\"\n",
              "              title=\"Convert this dataframe to an interactive table.\"\n",
              "              style=\"display:none;\">\n",
              "        \n",
              "  <svg xmlns=\"http://www.w3.org/2000/svg\" height=\"24px\"viewBox=\"0 0 24 24\"\n",
              "       width=\"24px\">\n",
              "    <path d=\"M0 0h24v24H0V0z\" fill=\"none\"/>\n",
              "    <path d=\"M18.56 5.44l.94 2.06.94-2.06 2.06-.94-2.06-.94-.94-2.06-.94 2.06-2.06.94zm-11 1L8.5 8.5l.94-2.06 2.06-.94-2.06-.94L8.5 2.5l-.94 2.06-2.06.94zm10 10l.94 2.06.94-2.06 2.06-.94-2.06-.94-.94-2.06-.94 2.06-2.06.94z\"/><path d=\"M17.41 7.96l-1.37-1.37c-.4-.4-.92-.59-1.43-.59-.52 0-1.04.2-1.43.59L10.3 9.45l-7.72 7.72c-.78.78-.78 2.05 0 2.83L4 21.41c.39.39.9.59 1.41.59.51 0 1.02-.2 1.41-.59l7.78-7.78 2.81-2.81c.8-.78.8-2.07 0-2.86zM5.41 20L4 18.59l7.72-7.72 1.47 1.35L5.41 20z\"/>\n",
              "  </svg>\n",
              "      </button>\n",
              "      \n",
              "  <style>\n",
              "    .colab-df-container {\n",
              "      display:flex;\n",
              "      flex-wrap:wrap;\n",
              "      gap: 12px;\n",
              "    }\n",
              "\n",
              "    .colab-df-convert {\n",
              "      background-color: #E8F0FE;\n",
              "      border: none;\n",
              "      border-radius: 50%;\n",
              "      cursor: pointer;\n",
              "      display: none;\n",
              "      fill: #1967D2;\n",
              "      height: 32px;\n",
              "      padding: 0 0 0 0;\n",
              "      width: 32px;\n",
              "    }\n",
              "\n",
              "    .colab-df-convert:hover {\n",
              "      background-color: #E2EBFA;\n",
              "      box-shadow: 0px 1px 2px rgba(60, 64, 67, 0.3), 0px 1px 3px 1px rgba(60, 64, 67, 0.15);\n",
              "      fill: #174EA6;\n",
              "    }\n",
              "\n",
              "    [theme=dark] .colab-df-convert {\n",
              "      background-color: #3B4455;\n",
              "      fill: #D2E3FC;\n",
              "    }\n",
              "\n",
              "    [theme=dark] .colab-df-convert:hover {\n",
              "      background-color: #434B5C;\n",
              "      box-shadow: 0px 1px 3px 1px rgba(0, 0, 0, 0.15);\n",
              "      filter: drop-shadow(0px 1px 2px rgba(0, 0, 0, 0.3));\n",
              "      fill: #FFFFFF;\n",
              "    }\n",
              "  </style>\n",
              "\n",
              "      <script>\n",
              "        const buttonEl =\n",
              "          document.querySelector('#df-622276e1-6580-4bb1-82f1-a33b30aaa467 button.colab-df-convert');\n",
              "        buttonEl.style.display =\n",
              "          google.colab.kernel.accessAllowed ? 'block' : 'none';\n",
              "\n",
              "        async function convertToInteractive(key) {\n",
              "          const element = document.querySelector('#df-622276e1-6580-4bb1-82f1-a33b30aaa467');\n",
              "          const dataTable =\n",
              "            await google.colab.kernel.invokeFunction('convertToInteractive',\n",
              "                                                     [key], {});\n",
              "          if (!dataTable) return;\n",
              "\n",
              "          const docLinkHtml = 'Like what you see? Visit the ' +\n",
              "            '<a target=\"_blank\" href=https://colab.research.google.com/notebooks/data_table.ipynb>data table notebook</a>'\n",
              "            + ' to learn more about interactive tables.';\n",
              "          element.innerHTML = '';\n",
              "          dataTable['output_type'] = 'display_data';\n",
              "          await google.colab.output.renderOutput(dataTable, element);\n",
              "          const docLink = document.createElement('div');\n",
              "          docLink.innerHTML = docLinkHtml;\n",
              "          element.appendChild(docLink);\n",
              "        }\n",
              "      </script>\n",
              "    </div>\n",
              "  </div>\n",
              "  "
            ],
            "text/plain": [
              "   S.No  Left-Lateral-Ventricle  Left-Inf-Lat-Vent  \\\n",
              "0     1                 22916.9              982.7   \n",
              "1     2                 22953.2              984.5   \n",
              "2     3                 23320.4             1062.1   \n",
              "3     4                 24360.0             1000.5   \n",
              "4     5                 25769.4             1124.4   \n",
              "\n",
              "   Left-Cerebellum-White-Matter  Left-Cerebellum-Cortex  Left-Thalamus  \\\n",
              "0                       15196.7                 55796.4         6855.5   \n",
              "1                       15289.7                 55778.6         6835.1   \n",
              "2                       15382.1                 55551.2         7566.0   \n",
              "3                       14805.4                 54041.8         8004.6   \n",
              "4                       16331.1                 54108.6         6677.4   \n",
              "\n",
              "   Left-Caudate  Left-Putamen  Left-Pallidum  3rd-Ventricle  ...  \\\n",
              "0        2956.4        4240.7         2223.9         2034.4  ...   \n",
              "1        3064.2        4498.6         2354.1         1927.1  ...   \n",
              "2        3231.7        4456.2         1995.4         2064.7  ...   \n",
              "3        3137.3        4262.2         1983.4         2017.7  ...   \n",
              "4        2964.4        4204.6         2409.7         2251.8  ...   \n",
              "\n",
              "   rh_supramarginal_thickness  rh_frontalpole_thickness  \\\n",
              "0                       2.408                     2.629   \n",
              "1                       2.417                     2.640   \n",
              "2                       2.374                     2.601   \n",
              "3                       2.366                     2.639   \n",
              "4                       2.381                     2.555   \n",
              "\n",
              "   rh_temporalpole_thickness  rh_transversetemporal_thickness  \\\n",
              "0                      3.519                            2.009   \n",
              "1                      3.488                            2.111   \n",
              "2                      3.342                            2.146   \n",
              "3                      3.361                            2.056   \n",
              "4                      3.450                            2.052   \n",
              "\n",
              "   rh_insula_thickness  rh_MeanThickness_thickness  BrainSegVolNotVent.2  \\\n",
              "0                2.825                     2.33635               1093846   \n",
              "1                2.720                     2.34202               1099876   \n",
              "2                2.684                     2.31982               1097999   \n",
              "3                2.700                     2.29215               1070117   \n",
              "4                2.574                     2.30397               1075926   \n",
              "\n",
              "        eTIV.1  Age  dataset  \n",
              "0  1619602.965   85        1  \n",
              "1  1624755.130   85        1  \n",
              "2  1622609.518   86        1  \n",
              "3  1583854.236   87        1  \n",
              "4  1617375.362   89        1  \n",
              "\n",
              "[5 rows x 141 columns]"
            ]
          },
          "execution_count": 2,
          "metadata": {},
          "output_type": "execute_result"
        }
      ],
      "source": [
        "df = pd.read_csv(\"MRI_scans.csv\")\n",
        "df.head()"
      ]
    },
    {
      "cell_type": "code",
      "execution_count": null,
      "metadata": {
        "id": "-nKbvpwmiqQG"
      },
      "outputs": [],
      "source": [
        "X = df.iloc[:, 2:139]\n",
        "y = df['Age']\n",
        "\n",
        "X_train, X_test, y_train , y_test = train_test_split(X,y, test_size = 0.2, random_state = 42)"
      ]
    },
    {
      "cell_type": "code",
      "execution_count": null,
      "metadata": {
        "id": "uKTPVBsYIonr"
      },
      "outputs": [],
      "source": []
    },
    {
      "cell_type": "markdown",
      "metadata": {
        "id": "hHHewMgNvkKF"
      },
      "source": [
        "Multiple Linear Regression"
      ]
    },
    {
      "cell_type": "code",
      "execution_count": null,
      "metadata": {
        "colab": {
          "base_uri": "https://localhost:8080/",
          "height": 75
        },
        "id": "9L4HWxNwvjzJ",
        "outputId": "c73cac94-4cf4-4109-a06e-b2360bf0f314"
      },
      "outputs": [
        {
          "data": {
            "text/html": [
              "<style>#sk-container-id-4 {color: black;background-color: white;}#sk-container-id-4 pre{padding: 0;}#sk-container-id-4 div.sk-toggleable {background-color: white;}#sk-container-id-4 label.sk-toggleable__label {cursor: pointer;display: block;width: 100%;margin-bottom: 0;padding: 0.3em;box-sizing: border-box;text-align: center;}#sk-container-id-4 label.sk-toggleable__label-arrow:before {content: \"▸\";float: left;margin-right: 0.25em;color: #696969;}#sk-container-id-4 label.sk-toggleable__label-arrow:hover:before {color: black;}#sk-container-id-4 div.sk-estimator:hover label.sk-toggleable__label-arrow:before {color: black;}#sk-container-id-4 div.sk-toggleable__content {max-height: 0;max-width: 0;overflow: hidden;text-align: left;background-color: #f0f8ff;}#sk-container-id-4 div.sk-toggleable__content pre {margin: 0.2em;color: black;border-radius: 0.25em;background-color: #f0f8ff;}#sk-container-id-4 input.sk-toggleable__control:checked~div.sk-toggleable__content {max-height: 200px;max-width: 100%;overflow: auto;}#sk-container-id-4 input.sk-toggleable__control:checked~label.sk-toggleable__label-arrow:before {content: \"▾\";}#sk-container-id-4 div.sk-estimator input.sk-toggleable__control:checked~label.sk-toggleable__label {background-color: #d4ebff;}#sk-container-id-4 div.sk-label input.sk-toggleable__control:checked~label.sk-toggleable__label {background-color: #d4ebff;}#sk-container-id-4 input.sk-hidden--visually {border: 0;clip: rect(1px 1px 1px 1px);clip: rect(1px, 1px, 1px, 1px);height: 1px;margin: -1px;overflow: hidden;padding: 0;position: absolute;width: 1px;}#sk-container-id-4 div.sk-estimator {font-family: monospace;background-color: #f0f8ff;border: 1px dotted black;border-radius: 0.25em;box-sizing: border-box;margin-bottom: 0.5em;}#sk-container-id-4 div.sk-estimator:hover {background-color: #d4ebff;}#sk-container-id-4 div.sk-parallel-item::after {content: \"\";width: 100%;border-bottom: 1px solid gray;flex-grow: 1;}#sk-container-id-4 div.sk-label:hover label.sk-toggleable__label {background-color: #d4ebff;}#sk-container-id-4 div.sk-serial::before {content: \"\";position: absolute;border-left: 1px solid gray;box-sizing: border-box;top: 0;bottom: 0;left: 50%;z-index: 0;}#sk-container-id-4 div.sk-serial {display: flex;flex-direction: column;align-items: center;background-color: white;padding-right: 0.2em;padding-left: 0.2em;position: relative;}#sk-container-id-4 div.sk-item {position: relative;z-index: 1;}#sk-container-id-4 div.sk-parallel {display: flex;align-items: stretch;justify-content: center;background-color: white;position: relative;}#sk-container-id-4 div.sk-item::before, #sk-container-id-4 div.sk-parallel-item::before {content: \"\";position: absolute;border-left: 1px solid gray;box-sizing: border-box;top: 0;bottom: 0;left: 50%;z-index: -1;}#sk-container-id-4 div.sk-parallel-item {display: flex;flex-direction: column;z-index: 1;position: relative;background-color: white;}#sk-container-id-4 div.sk-parallel-item:first-child::after {align-self: flex-end;width: 50%;}#sk-container-id-4 div.sk-parallel-item:last-child::after {align-self: flex-start;width: 50%;}#sk-container-id-4 div.sk-parallel-item:only-child::after {width: 0;}#sk-container-id-4 div.sk-dashed-wrapped {border: 1px dashed gray;margin: 0 0.4em 0.5em 0.4em;box-sizing: border-box;padding-bottom: 0.4em;background-color: white;}#sk-container-id-4 div.sk-label label {font-family: monospace;font-weight: bold;display: inline-block;line-height: 1.2em;}#sk-container-id-4 div.sk-label-container {text-align: center;}#sk-container-id-4 div.sk-container {/* jupyter's `normalize.less` sets `[hidden] { display: none; }` but bootstrap.min.css set `[hidden] { display: none !important; }` so we also need the `!important` here to be able to override the default hidden behavior on the sphinx rendered scikit-learn.org. See: https://github.com/scikit-learn/scikit-learn/issues/21755 */display: inline-block !important;position: relative;}#sk-container-id-4 div.sk-text-repr-fallback {display: none;}</style><div id=\"sk-container-id-4\" class=\"sk-top-container\"><div class=\"sk-text-repr-fallback\"><pre>LinearRegression()</pre><b>In a Jupyter environment, please rerun this cell to show the HTML representation or trust the notebook. <br />On GitHub, the HTML representation is unable to render, please try loading this page with nbviewer.org.</b></div><div class=\"sk-container\" hidden><div class=\"sk-item\"><div class=\"sk-estimator sk-toggleable\"><input class=\"sk-toggleable__control sk-hidden--visually\" id=\"sk-estimator-id-4\" type=\"checkbox\" checked><label for=\"sk-estimator-id-4\" class=\"sk-toggleable__label sk-toggleable__label-arrow\">LinearRegression</label><div class=\"sk-toggleable__content\"><pre>LinearRegression()</pre></div></div></div></div></div>"
            ],
            "text/plain": [
              "LinearRegression()"
            ]
          },
          "execution_count": 9,
          "metadata": {},
          "output_type": "execute_result"
        }
      ],
      "source": [
        "from sklearn import linear_model\n",
        "multlinreg = linear_model.LinearRegression()\n",
        "multlinreg.fit(X_train, y_train)"
      ]
    },
    {
      "cell_type": "code",
      "execution_count": null,
      "metadata": {
        "colab": {
          "base_uri": "https://localhost:8080/",
          "height": 520
        },
        "id": "1wTb0wFTwMff",
        "outputId": "1488311f-c74b-46da-f703-aee3e17884c2"
      },
      "outputs": [
        {
          "name": "stdout",
          "output_type": "stream",
          "text": [
            "R square= 0.8543445608166923\n",
            "Mean square error = 59.74220475239852\n",
            "Explained variance = 0.8543463315581941\n"
          ]
        },
        {
          "data": {
            "text/plain": [
              "Text(0, 0.5, 'Y Predicted Data')"
            ]
          },
          "execution_count": 5,
          "metadata": {},
          "output_type": "execute_result"
        },
        {
          "data": {
            "image/png": "[encoded data removed]",
            "text/plain": [
              "<Figure size 640x480 with 1 Axes>"
            ]
          },
          "metadata": {},
          "output_type": "display_data"
        }
      ],
      "source": [
        "predictions = multlinreg.predict(X_test)\n",
        "rsquare=metrics.r2_score(y_test, predictions)\n",
        "meansquare=metrics.mean_squared_error(y_test, predictions)\n",
        "evariance=metrics.explained_variance_score(y_test, predictions)\n",
        "\n",
        "\n",
        "print('R square=', rsquare)\n",
        "print('Mean square error =', meansquare)   \n",
        "print('Explained variance =', evariance )\n",
        "\n",
        "fig, ax = plt.subplots()\n",
        "plt.scatter(y_test, predictions, marker = 'o');\n",
        "ax.set_xlabel('Y Test Data')\n",
        "ax.set_ylabel('Y Predicted Data')"
      ]
    }
  ],
  "metadata": {
    "colab": {
      "provenance": []
    },
    "kernelspec": {
      "display_name": "Python 3",
      "name": "python3"
    },
    "language_info": {
      "name": "python"
    }
  },
  "nbformat": 4,
  "nbformat_minor": 0
}
