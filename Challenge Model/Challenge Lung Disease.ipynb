{
  "cells": [
    {
      "cell_type": "code",
      "execution_count": null,
      "id": "4516da2b",
      "metadata": {
        "id": "4516da2b",
        "outputId": "4ebcd28e-4dbb-4e3f-f753-a8faf1c35b14"
      },
      "outputs": [
        {
          "name": "stdout",
          "output_type": "stream",
          "text": [
            "Note: you may need to restart the kernel to use updated packages.\n"
          ]
        },
        {
          "name": "stderr",
          "output_type": "stream",
          "text": [
            "ERROR: Could not find a version that satisfies the requirement texlive (from versions: none)\n",
            "ERROR: No matching distribution found for texlive\n"
          ]
        }
      ],
      "source": [
        "import pandas as pd\n",
        "import numpy as np\n",
        "import matplotlib.pyplot as plt\n",
        "import PIL\n",
        "import glob\n",
        "import os\n",
        "import matplotlib.image as mpimg\n",
        "from tensorflow.keras.initializers import RandomNormal\n",
        "from keras.utils import np_utils\n",
        "from tensorflow.keras.datasets import mnist\n",
        "\n",
        "normal_directory = '/Users/Tyler/Desktop/Normal'\n",
        "disease_directory = '/Users/Tyler/Desktop/Diseased'"
      ]
    },
    {
      "cell_type": "code",
      "execution_count": null,
      "id": "b8e38330",
      "metadata": {
        "id": "b8e38330"
      },
      "outputs": [],
      "source": [
        "from os import listdir\n",
        "from matplotlib import image\n",
        "# load all images in a directory\n",
        "loaded_images = [] #store images\n",
        "outcome = [] #indicates if image at same index is normal or diseased\n",
        "NormalTraining_list = glob.glob(os.path.join(normal_directory, '*.png'))\n",
        "for filename in NormalTraining_list:\n",
        "    #load in all normal images and assign them a 0\n",
        "    loaded_images.append(filename)\n",
        "    outcome.append(0)\n",
        "\n",
        "DiseaseTraining_list = glob.glob(os.path.join(disease_directory, '*.png'))\n",
        "for filename in DiseaseTraining_list:\n",
        "    #load all diseased images and assign them a 1\n",
        "    loaded_images.append(filename)\n",
        "    outcome.append(1)\n"
      ]
    }
  ],
  "metadata": {
    "colab": {
      "provenance": []
    },
    "kernelspec": {
      "display_name": "Python 3 (ipykernel)",
      "language": "python",
      "name": "python3"
    },
    "language_info": {
      "codemirror_mode": {
        "name": "ipython",
        "version": 3
      },
      "file_extension": ".py",
      "mimetype": "text/x-python",
      "name": "python",
      "nbconvert_exporter": "python",
      "pygments_lexer": "ipython3",
      "version": "3.10.9"
    }
  },
  "nbformat": 4,
  "nbformat_minor": 5
}
